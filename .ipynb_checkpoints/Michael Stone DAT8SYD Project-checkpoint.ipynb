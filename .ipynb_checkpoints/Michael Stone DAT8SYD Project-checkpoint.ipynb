{
 "cells": [
  {
   "cell_type": "markdown",
   "metadata": {},
   "source": [
    "# Data Exploration"
   ]
  },
  {
   "cell_type": "code",
   "execution_count": 2,
   "metadata": {
    "collapsed": false
   },
   "outputs": [
    {
     "data": {
      "text/plain": [
       "(285415, 16)"
      ]
     },
     "execution_count": 2,
     "metadata": {},
     "output_type": "execute_result"
    }
   ],
   "source": [
    "# Input Data\n",
    "import pandas as pd\n",
    "shoppers = pd.read_table('data/shoppers.txt', na_values = '\\\\N',names = ['shopper_date','Gallery King Furniture','Ground BBQ Ranch','Ground Dish Kiosk','Ground Freedom','Level 1 Dare Gallery','Level 1 JB HiFi','Level 1 Nick Scali','Level 2 Harvey Norman','Lower Ground Baby Bunting','Lower Ground Escalators','shopper','date','visits','day_of_week_type','arrival'])\n",
    "shoppers.shape"
   ]
  },
  {
   "cell_type": "code",
   "execution_count": 3,
   "metadata": {
    "collapsed": false
   },
   "outputs": [
    {
     "data": {
      "text/html": [
       "<div>\n",
       "<table border=\"1\" class=\"dataframe\">\n",
       "  <thead>\n",
       "    <tr style=\"text-align: right;\">\n",
       "      <th></th>\n",
       "      <th>shopper_date</th>\n",
       "      <th>Gallery King Furniture</th>\n",
       "      <th>Ground BBQ Ranch</th>\n",
       "      <th>Ground Dish Kiosk</th>\n",
       "      <th>Ground Freedom</th>\n",
       "      <th>Level 1 Dare Gallery</th>\n",
       "      <th>Level 1 JB HiFi</th>\n",
       "      <th>Level 1 Nick Scali</th>\n",
       "      <th>Level 2 Harvey Norman</th>\n",
       "      <th>Lower Ground Baby Bunting</th>\n",
       "      <th>Lower Ground Escalators</th>\n",
       "      <th>shopper</th>\n",
       "      <th>date</th>\n",
       "      <th>visits</th>\n",
       "      <th>day_of_week_type</th>\n",
       "      <th>arrival</th>\n",
       "    </tr>\n",
       "  </thead>\n",
       "  <tbody>\n",
       "    <tr>\n",
       "      <th>0</th>\n",
       "      <td>2017-01-02#297225</td>\n",
       "      <td>NaN</td>\n",
       "      <td>NaN</td>\n",
       "      <td>67.0</td>\n",
       "      <td>NaN</td>\n",
       "      <td>NaN</td>\n",
       "      <td>NaN</td>\n",
       "      <td>NaN</td>\n",
       "      <td>NaN</td>\n",
       "      <td>NaN</td>\n",
       "      <td>NaN</td>\n",
       "      <td>297225</td>\n",
       "      <td>2017-01-02</td>\n",
       "      <td>81</td>\n",
       "      <td>1</td>\n",
       "      <td>11</td>\n",
       "    </tr>\n",
       "    <tr>\n",
       "      <th>1</th>\n",
       "      <td>2017-02-26#508299</td>\n",
       "      <td>NaN</td>\n",
       "      <td>NaN</td>\n",
       "      <td>NaN</td>\n",
       "      <td>1.0</td>\n",
       "      <td>NaN</td>\n",
       "      <td>NaN</td>\n",
       "      <td>NaN</td>\n",
       "      <td>NaN</td>\n",
       "      <td>NaN</td>\n",
       "      <td>2.0</td>\n",
       "      <td>508299</td>\n",
       "      <td>2017-02-26</td>\n",
       "      <td>4</td>\n",
       "      <td>0</td>\n",
       "      <td>10</td>\n",
       "    </tr>\n",
       "    <tr>\n",
       "      <th>2</th>\n",
       "      <td>2017-03-12#545218</td>\n",
       "      <td>NaN</td>\n",
       "      <td>NaN</td>\n",
       "      <td>11.0</td>\n",
       "      <td>NaN</td>\n",
       "      <td>NaN</td>\n",
       "      <td>NaN</td>\n",
       "      <td>NaN</td>\n",
       "      <td>NaN</td>\n",
       "      <td>NaN</td>\n",
       "      <td>NaN</td>\n",
       "      <td>545218</td>\n",
       "      <td>2017-03-12</td>\n",
       "      <td>3</td>\n",
       "      <td>0</td>\n",
       "      <td>14</td>\n",
       "    </tr>\n",
       "    <tr>\n",
       "      <th>3</th>\n",
       "      <td>2017-01-24#762703</td>\n",
       "      <td>NaN</td>\n",
       "      <td>NaN</td>\n",
       "      <td>NaN</td>\n",
       "      <td>NaN</td>\n",
       "      <td>NaN</td>\n",
       "      <td>NaN</td>\n",
       "      <td>NaN</td>\n",
       "      <td>NaN</td>\n",
       "      <td>17.0</td>\n",
       "      <td>NaN</td>\n",
       "      <td>762703</td>\n",
       "      <td>2017-01-24</td>\n",
       "      <td>2</td>\n",
       "      <td>2</td>\n",
       "      <td>12</td>\n",
       "    </tr>\n",
       "    <tr>\n",
       "      <th>4</th>\n",
       "      <td>2017-04-22#817932</td>\n",
       "      <td>NaN</td>\n",
       "      <td>NaN</td>\n",
       "      <td>NaN</td>\n",
       "      <td>NaN</td>\n",
       "      <td>NaN</td>\n",
       "      <td>NaN</td>\n",
       "      <td>NaN</td>\n",
       "      <td>NaN</td>\n",
       "      <td>0.0</td>\n",
       "      <td>NaN</td>\n",
       "      <td>817932</td>\n",
       "      <td>2017-04-22</td>\n",
       "      <td>1</td>\n",
       "      <td>6</td>\n",
       "      <td>13</td>\n",
       "    </tr>\n",
       "  </tbody>\n",
       "</table>\n",
       "</div>"
      ],
      "text/plain": [
       "        shopper_date  Gallery King Furniture  Ground BBQ Ranch  \\\n",
       "0  2017-01-02#297225                     NaN               NaN   \n",
       "1  2017-02-26#508299                     NaN               NaN   \n",
       "2  2017-03-12#545218                     NaN               NaN   \n",
       "3  2017-01-24#762703                     NaN               NaN   \n",
       "4  2017-04-22#817932                     NaN               NaN   \n",
       "\n",
       "   Ground Dish Kiosk  Ground Freedom  Level 1 Dare Gallery  Level 1 JB HiFi  \\\n",
       "0               67.0             NaN                   NaN              NaN   \n",
       "1                NaN             1.0                   NaN              NaN   \n",
       "2               11.0             NaN                   NaN              NaN   \n",
       "3                NaN             NaN                   NaN              NaN   \n",
       "4                NaN             NaN                   NaN              NaN   \n",
       "\n",
       "   Level 1 Nick Scali  Level 2 Harvey Norman  Lower Ground Baby Bunting  \\\n",
       "0                 NaN                    NaN                        NaN   \n",
       "1                 NaN                    NaN                        NaN   \n",
       "2                 NaN                    NaN                        NaN   \n",
       "3                 NaN                    NaN                       17.0   \n",
       "4                 NaN                    NaN                        0.0   \n",
       "\n",
       "   Lower Ground Escalators  shopper        date  visits  day_of_week_type  \\\n",
       "0                      NaN   297225  2017-01-02      81                 1   \n",
       "1                      2.0   508299  2017-02-26       4                 0   \n",
       "2                      NaN   545218  2017-03-12       3                 0   \n",
       "3                      NaN   762703  2017-01-24       2                 2   \n",
       "4                      NaN   817932  2017-04-22       1                 6   \n",
       "\n",
       "   arrival  \n",
       "0       11  \n",
       "1       10  \n",
       "2       14  \n",
       "3       12  \n",
       "4       13  "
      ]
     },
     "execution_count": 3,
     "metadata": {},
     "output_type": "execute_result"
    }
   ],
   "source": [
    "shoppers.head()"
   ]
  },
  {
   "cell_type": "code",
   "execution_count": 4,
   "metadata": {
    "collapsed": false
   },
   "outputs": [
    {
     "data": {
      "text/plain": [
       "Gallery King Furniture        38.251102\n",
       "Ground BBQ Ranch              23.674745\n",
       "Ground Dish Kiosk             59.222941\n",
       "Ground Freedom                28.032471\n",
       "Level 1 Dare Gallery          38.855041\n",
       "Level 1 JB HiFi              224.639099\n",
       "Level 1 Nick Scali            27.198296\n",
       "Level 2 Harvey Norman        124.664746\n",
       "Lower Ground Baby Bunting     27.277391\n",
       "Lower Ground Escalators       12.965345\n",
       "dtype: float64"
      ]
     },
     "execution_count": 4,
     "metadata": {},
     "output_type": "execute_result"
    }
   ],
   "source": [
    "# Calculate the average dwell in each column\n",
    "zone_columns = ['Gallery King Furniture','Ground BBQ Ranch','Ground Dish Kiosk','Ground Freedom','Level 1 Dare Gallery','Level 1 JB HiFi','Level 1 Nick Scali','Level 2 Harvey Norman','Lower Ground Baby Bunting','Lower Ground Escalators']\n",
    "shoppers[zone_columns].mean()"
   ]
  },
  {
   "cell_type": "code",
   "execution_count": 5,
   "metadata": {
    "collapsed": false
   },
   "outputs": [
    {
     "name": "stdout",
     "output_type": "stream",
     "text": [
      "Average visits per shopper:  date  count    2.558995\n",
      "dtype: float64\n"
     ]
    }
   ],
   "source": [
    "# Calculate the average number of visits per shopper\n",
    "print('Average visits per shopper: ',shoppers[['shopper','date']].groupby(['shopper']).agg(['count']).mean())"
   ]
  },
  {
   "cell_type": "code",
   "execution_count": 6,
   "metadata": {
    "collapsed": false
   },
   "outputs": [
    {
     "name": "stdout",
     "output_type": "stream",
     "text": [
      "Min  visits    1\n",
      "dtype: int64\n",
      "Max  visits    181\n",
      "dtype: int64\n"
     ]
    }
   ],
   "source": [
    "# Calculate min and max number of visits\n",
    "print('Min ', shoppers[['visits']].min())\n",
    "print('Max ', shoppers[['visits']].max())"
   ]
  },
  {
   "cell_type": "markdown",
   "metadata": {},
   "source": [
    "## Plot shoppers per day"
   ]
  },
  {
   "cell_type": "code",
   "execution_count": 7,
   "metadata": {
    "collapsed": false
   },
   "outputs": [
    {
     "data": {
      "image/png": "[encoded data removed]",
      "text/plain": [
       "<matplotlib.figure.Figure at 0x21ed2d63710>"
      ]
     },
     "metadata": {},
     "output_type": "display_data"
    }
   ],
   "source": [
    "import matplotlib.pyplot as plt\n",
    "\n",
    "daily_shoppers = shoppers[['shopper','date']].groupby(['date']).agg(['count'])\n",
    "\n",
    "daily_shoppers_plt = daily_shoppers.plot()\n",
    "plt.show(daily_shoppers_plt)"
   ]
  },
  {
   "cell_type": "markdown",
   "metadata": {},
   "source": [
    "The two downward spikes are for Easter Friday and Easter Sunday when the centre was closed. Another two consecutive downward spike on 22-23 May was a backhaul connection outage."
   ]
  },
  {
   "cell_type": "markdown",
   "metadata": {},
   "source": [
    "## Plot shoppers by day of week"
   ]
  },
  {
   "cell_type": "code",
   "execution_count": 8,
   "metadata": {
    "collapsed": false
   },
   "outputs": [
    {
     "data": {
      "image/png": "[encoded data removed]",
      "text/plain": [
       "<matplotlib.figure.Figure at 0x21ed40ba6d8>"
      ]
     },
     "metadata": {},
     "output_type": "display_data"
    }
   ],
   "source": [
    "import matplotlib.pyplot as plt\n",
    "\n",
    "dow_shoppers = shoppers[['shopper','day_of_week_type']].groupby(['day_of_week_type']).agg(['count'])\n",
    "\n",
    "dow_shoppers_plt = dow_shoppers.plot(kind='bar')\n",
    "plt.show(dow_shoppers_plt)"
   ]
  },
  {
   "cell_type": "markdown",
   "metadata": {},
   "source": [
    "The profile shows the most popular shopping days are Saturday (6) and Sunday (0) followed by Thursday (4) when they centre is open for late night shopping."
   ]
  },
  {
   "cell_type": "markdown",
   "metadata": {},
   "source": [
    "## Plot shopper visits historgram"
   ]
  },
  {
   "cell_type": "code",
   "execution_count": 9,
   "metadata": {
    "collapsed": false
   },
   "outputs": [
    {
     "data": {
      "image/png": "[encoded data removed]",
      "text/plain": [
       "<matplotlib.figure.Figure at 0x21ed41c9358>"
      ]
     },
     "metadata": {},
     "output_type": "display_data"
    }
   ],
   "source": [
    "import matplotlib.pyplot as plt\n",
    "\n",
    "shopper_visits = shoppers[['visits']]\n",
    "\n",
    "shopper_visits_plt = shopper_visits.plot(kind='hist',bins=50)\n",
    "plt.show(shopper_visits_plt)"
   ]
  },
  {
   "cell_type": "markdown",
   "metadata": {},
   "source": [
    "Most shoppers only made one visit to the centre during the period."
   ]
  },
  {
   "cell_type": "code",
   "execution_count": 10,
   "metadata": {
    "collapsed": false
   },
   "outputs": [
    {
     "data": {
      "image/png": "[encoded data removed]",
      "text/plain": [
       "<matplotlib.figure.Figure at 0x21ed9e1c400>"
      ]
     },
     "metadata": {},
     "output_type": "display_data"
    }
   ],
   "source": [
    "# Plot shopper visits by arrival time (hour)\n",
    "import matplotlib.pyplot as plt\n",
    "\n",
    "shopper_arrivals = shoppers[['shopper','arrival']].groupby(['arrival']).agg(['count'])\n",
    "\n",
    "shopper_arrivals_plt = shopper_arrivals.plot(kind='bar')\n",
    "plt.show(shopper_arrivals_plt)"
   ]
  },
  {
   "cell_type": "markdown",
   "metadata": {},
   "source": [
    "# Proposed Clustering Techniques\n",
    "\n",
    "Potential clustering techniques to be tried include:\n",
    "- Linear SVC (sklearn.svm.LinearSVC)\n",
    "- K-Means (sklearn.cluster.KMeans)\n",
    "- DBScan (sklearn.cluster.dbscan)"
   ]
  },
  {
   "cell_type": "code",
   "execution_count": null,
   "metadata": {
    "collapsed": true
   },
   "outputs": [],
   "source": []
  }
 ],
 "metadata": {
  "kernelspec": {
   "display_name": "Python 3",
   "language": "python",
   "name": "python3"
  },
  "language_info": {
   "codemirror_mode": {
    "name": "ipython",
    "version": 3
   },
   "file_extension": ".py",
   "mimetype": "text/x-python",
   "name": "python",
   "nbconvert_exporter": "python",
   "pygments_lexer": "ipython3",
   "version": "3.6.0"
  }
 },
 "nbformat": 4,
 "nbformat_minor": 2
}
